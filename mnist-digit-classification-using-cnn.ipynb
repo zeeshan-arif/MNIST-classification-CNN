{
 "cells": [
  {
   "cell_type": "code",
   "execution_count": 1,
   "id": "5e530706",
   "metadata": {
    "_cell_guid": "b1076dfc-b9ad-4769-8c92-a6c4dae69d19",
    "_uuid": "8f2839f25d086af736a60e9eeb907d3b93b6e0e5",
    "execution": {
     "iopub.execute_input": "2022-03-30T13:23:19.496241Z",
     "iopub.status.busy": "2022-03-30T13:23:19.495084Z",
     "iopub.status.idle": "2022-03-30T13:23:19.507893Z",
     "shell.execute_reply": "2022-03-30T13:23:19.508497Z",
     "shell.execute_reply.started": "2022-03-30T12:18:12.415993Z"
    },
    "papermill": {
     "duration": 0.052742,
     "end_time": "2022-03-30T13:23:19.508914",
     "exception": false,
     "start_time": "2022-03-30T13:23:19.456172",
     "status": "completed"
    },
    "tags": []
   },
   "outputs": [
    {
     "name": "stdout",
     "output_type": "stream",
     "text": [
      "/kaggle/input/digit-recognizer/sample_submission.csv\n",
      "/kaggle/input/digit-recognizer/train.csv\n",
      "/kaggle/input/digit-recognizer/test.csv\n"
     ]
    }
   ],
   "source": [
    "# This Python 3 environment comes with many helpful analytics libraries installed\n",
    "# It is defined by the kaggle/python Docker image: https://github.com/kaggle/docker-python\n",
    "# For example, here's several helpful packages to load\n",
    "\n",
    "import numpy as np # linear algebra\n",
    "import pandas as pd # data processing, CSV file I/O (e.g. pd.read_csv)\n",
    "\n",
    "# Input data files are available in the read-only \"../input/\" directory\n",
    "# For example, running this (by clicking run or pressing Shift+Enter) will list all files under the input directory\n",
    "\n",
    "import os\n",
    "for dirname, _, filenames in os.walk('/kaggle/input'):\n",
    "    for filename in filenames:\n",
    "        print(os.path.join(dirname, filename))\n",
    "\n",
    "# You can write up to 20GB to the current directory (/kaggle/working/) that gets preserved as output when you create a version using \"Save & Run All\" \n",
    "# You can also write temporary files to /kaggle/temp/, but they won't be saved outside of the current session"
   ]
  },
  {
   "cell_type": "markdown",
   "id": "52a4b452",
   "metadata": {
    "papermill": {
     "duration": 0.033728,
     "end_time": "2022-03-30T13:23:19.578012",
     "exception": false,
     "start_time": "2022-03-30T13:23:19.544284",
     "status": "completed"
    },
    "tags": []
   },
   "source": [
    "Import the necesssary libraries."
   ]
  },
  {
   "cell_type": "code",
   "execution_count": 2,
   "id": "290a752c",
   "metadata": {
    "execution": {
     "iopub.execute_input": "2022-03-30T13:23:19.652036Z",
     "iopub.status.busy": "2022-03-30T13:23:19.650721Z",
     "iopub.status.idle": "2022-03-30T13:23:26.997449Z",
     "shell.execute_reply": "2022-03-30T13:23:26.996481Z",
     "shell.execute_reply.started": "2022-03-30T12:18:12.455817Z"
    },
    "papermill": {
     "duration": 7.384553,
     "end_time": "2022-03-30T13:23:26.997659",
     "exception": false,
     "start_time": "2022-03-30T13:23:19.613106",
     "status": "completed"
    },
    "tags": []
   },
   "outputs": [],
   "source": [
    "import numpy as np\n",
    "import pandas as pd\n",
    "import matplotlib.pyplot as plt\n",
    "%matplotlib inline\n",
    "import seaborn as sns\n",
    "\n",
    "from sklearn.model_selection import train_test_split\n",
    "from sklearn.metrics import confusion_matrix\n",
    "\n",
    "from keras.models import Sequential\n",
    "from keras.layers import Dense, Dropout, Flatten, Conv2D, MaxPool2D\n",
    "from keras.utils.np_utils import to_categorical"
   ]
  },
  {
   "cell_type": "code",
   "execution_count": 3,
   "id": "8f858a5e",
   "metadata": {
    "execution": {
     "iopub.execute_input": "2022-03-30T13:23:27.071305Z",
     "iopub.status.busy": "2022-03-30T13:23:27.070268Z",
     "iopub.status.idle": "2022-03-30T13:23:33.201715Z",
     "shell.execute_reply": "2022-03-30T13:23:33.201122Z",
     "shell.execute_reply.started": "2022-03-30T12:18:15.411454Z"
    },
    "papermill": {
     "duration": 6.168586,
     "end_time": "2022-03-30T13:23:33.201876",
     "exception": false,
     "start_time": "2022-03-30T13:23:27.033290",
     "status": "completed"
    },
    "tags": []
   },
   "outputs": [],
   "source": [
    "# load the data\n",
    "\n",
    "train = pd.read_csv(\"../input/digit-recognizer/train.csv\")\n",
    "test = pd.read_csv(\"../input/digit-recognizer/test.csv\")"
   ]
  },
  {
   "cell_type": "markdown",
   "id": "44d66d72",
   "metadata": {
    "papermill": {
     "duration": 0.033645,
     "end_time": "2022-03-30T13:23:33.269686",
     "exception": false,
     "start_time": "2022-03-30T13:23:33.236041",
     "status": "completed"
    },
    "tags": []
   },
   "source": [
    "### Here we can see the shape of training data and test data\n",
    "- (42000, 785) means 42000 samples and 784 features numbered from pixel0 to pixel783 and a label column\n",
    "- (28000, 784) means 28000 samples and 784 features numbered from pixel0 to pixel783"
   ]
  },
  {
   "cell_type": "code",
   "execution_count": 4,
   "id": "65bdc87b",
   "metadata": {
    "execution": {
     "iopub.execute_input": "2022-03-30T13:23:33.346071Z",
     "iopub.status.busy": "2022-03-30T13:23:33.345096Z",
     "iopub.status.idle": "2022-03-30T13:23:33.348388Z",
     "shell.execute_reply": "2022-03-30T13:23:33.348895Z",
     "shell.execute_reply.started": "2022-03-30T12:18:20.534446Z"
    },
    "papermill": {
     "duration": 0.045591,
     "end_time": "2022-03-30T13:23:33.349081",
     "exception": false,
     "start_time": "2022-03-30T13:23:33.303490",
     "status": "completed"
    },
    "tags": []
   },
   "outputs": [
    {
     "name": "stdout",
     "output_type": "stream",
     "text": [
      "Shape of training data: (42000, 785)\n",
      "Shape of test data: (28000, 784)\n"
     ]
    }
   ],
   "source": [
    "print(f\"Shape of training data: {train.shape}\")\n",
    "print(f\"Shape of test data: {test.shape}\")"
   ]
  },
  {
   "cell_type": "code",
   "execution_count": 5,
   "id": "a21a5571",
   "metadata": {
    "execution": {
     "iopub.execute_input": "2022-03-30T13:23:33.429691Z",
     "iopub.status.busy": "2022-03-30T13:23:33.428986Z",
     "iopub.status.idle": "2022-03-30T13:23:33.451231Z",
     "shell.execute_reply": "2022-03-30T13:23:33.450533Z",
     "shell.execute_reply.started": "2022-03-30T12:18:20.542741Z"
    },
    "papermill": {
     "duration": 0.06762,
     "end_time": "2022-03-30T13:23:33.451416",
     "exception": false,
     "start_time": "2022-03-30T13:23:33.383796",
     "status": "completed"
    },
    "tags": []
   },
   "outputs": [
    {
     "data": {
      "text/html": [
       "<div>\n",
       "<style scoped>\n",
       "    .dataframe tbody tr th:only-of-type {\n",
       "        vertical-align: middle;\n",
       "    }\n",
       "\n",
       "    .dataframe tbody tr th {\n",
       "        vertical-align: top;\n",
       "    }\n",
       "\n",
       "    .dataframe thead th {\n",
       "        text-align: right;\n",
       "    }\n",
       "</style>\n",
       "<table border=\"1\" class=\"dataframe\">\n",
       "  <thead>\n",
       "    <tr style=\"text-align: right;\">\n",
       "      <th></th>\n",
       "      <th>label</th>\n",
       "      <th>pixel0</th>\n",
       "      <th>pixel1</th>\n",
       "      <th>pixel2</th>\n",
       "      <th>pixel3</th>\n",
       "      <th>pixel4</th>\n",
       "      <th>pixel5</th>\n",
       "      <th>pixel6</th>\n",
       "      <th>pixel7</th>\n",
       "      <th>pixel8</th>\n",
       "      <th>...</th>\n",
       "      <th>pixel774</th>\n",
       "      <th>pixel775</th>\n",
       "      <th>pixel776</th>\n",
       "      <th>pixel777</th>\n",
       "      <th>pixel778</th>\n",
       "      <th>pixel779</th>\n",
       "      <th>pixel780</th>\n",
       "      <th>pixel781</th>\n",
       "      <th>pixel782</th>\n",
       "      <th>pixel783</th>\n",
       "    </tr>\n",
       "  </thead>\n",
       "  <tbody>\n",
       "    <tr>\n",
       "      <th>0</th>\n",
       "      <td>1</td>\n",
       "      <td>0</td>\n",
       "      <td>0</td>\n",
       "      <td>0</td>\n",
       "      <td>0</td>\n",
       "      <td>0</td>\n",
       "      <td>0</td>\n",
       "      <td>0</td>\n",
       "      <td>0</td>\n",
       "      <td>0</td>\n",
       "      <td>...</td>\n",
       "      <td>0</td>\n",
       "      <td>0</td>\n",
       "      <td>0</td>\n",
       "      <td>0</td>\n",
       "      <td>0</td>\n",
       "      <td>0</td>\n",
       "      <td>0</td>\n",
       "      <td>0</td>\n",
       "      <td>0</td>\n",
       "      <td>0</td>\n",
       "    </tr>\n",
       "    <tr>\n",
       "      <th>1</th>\n",
       "      <td>0</td>\n",
       "      <td>0</td>\n",
       "      <td>0</td>\n",
       "      <td>0</td>\n",
       "      <td>0</td>\n",
       "      <td>0</td>\n",
       "      <td>0</td>\n",
       "      <td>0</td>\n",
       "      <td>0</td>\n",
       "      <td>0</td>\n",
       "      <td>...</td>\n",
       "      <td>0</td>\n",
       "      <td>0</td>\n",
       "      <td>0</td>\n",
       "      <td>0</td>\n",
       "      <td>0</td>\n",
       "      <td>0</td>\n",
       "      <td>0</td>\n",
       "      <td>0</td>\n",
       "      <td>0</td>\n",
       "      <td>0</td>\n",
       "    </tr>\n",
       "    <tr>\n",
       "      <th>2</th>\n",
       "      <td>1</td>\n",
       "      <td>0</td>\n",
       "      <td>0</td>\n",
       "      <td>0</td>\n",
       "      <td>0</td>\n",
       "      <td>0</td>\n",
       "      <td>0</td>\n",
       "      <td>0</td>\n",
       "      <td>0</td>\n",
       "      <td>0</td>\n",
       "      <td>...</td>\n",
       "      <td>0</td>\n",
       "      <td>0</td>\n",
       "      <td>0</td>\n",
       "      <td>0</td>\n",
       "      <td>0</td>\n",
       "      <td>0</td>\n",
       "      <td>0</td>\n",
       "      <td>0</td>\n",
       "      <td>0</td>\n",
       "      <td>0</td>\n",
       "    </tr>\n",
       "    <tr>\n",
       "      <th>3</th>\n",
       "      <td>4</td>\n",
       "      <td>0</td>\n",
       "      <td>0</td>\n",
       "      <td>0</td>\n",
       "      <td>0</td>\n",
       "      <td>0</td>\n",
       "      <td>0</td>\n",
       "      <td>0</td>\n",
       "      <td>0</td>\n",
       "      <td>0</td>\n",
       "      <td>...</td>\n",
       "      <td>0</td>\n",
       "      <td>0</td>\n",
       "      <td>0</td>\n",
       "      <td>0</td>\n",
       "      <td>0</td>\n",
       "      <td>0</td>\n",
       "      <td>0</td>\n",
       "      <td>0</td>\n",
       "      <td>0</td>\n",
       "      <td>0</td>\n",
       "    </tr>\n",
       "    <tr>\n",
       "      <th>4</th>\n",
       "      <td>0</td>\n",
       "      <td>0</td>\n",
       "      <td>0</td>\n",
       "      <td>0</td>\n",
       "      <td>0</td>\n",
       "      <td>0</td>\n",
       "      <td>0</td>\n",
       "      <td>0</td>\n",
       "      <td>0</td>\n",
       "      <td>0</td>\n",
       "      <td>...</td>\n",
       "      <td>0</td>\n",
       "      <td>0</td>\n",
       "      <td>0</td>\n",
       "      <td>0</td>\n",
       "      <td>0</td>\n",
       "      <td>0</td>\n",
       "      <td>0</td>\n",
       "      <td>0</td>\n",
       "      <td>0</td>\n",
       "      <td>0</td>\n",
       "    </tr>\n",
       "  </tbody>\n",
       "</table>\n",
       "<p>5 rows × 785 columns</p>\n",
       "</div>"
      ],
      "text/plain": [
       "   label  pixel0  pixel1  pixel2  pixel3  pixel4  pixel5  pixel6  pixel7  \\\n",
       "0      1       0       0       0       0       0       0       0       0   \n",
       "1      0       0       0       0       0       0       0       0       0   \n",
       "2      1       0       0       0       0       0       0       0       0   \n",
       "3      4       0       0       0       0       0       0       0       0   \n",
       "4      0       0       0       0       0       0       0       0       0   \n",
       "\n",
       "   pixel8  ...  pixel774  pixel775  pixel776  pixel777  pixel778  pixel779  \\\n",
       "0       0  ...         0         0         0         0         0         0   \n",
       "1       0  ...         0         0         0         0         0         0   \n",
       "2       0  ...         0         0         0         0         0         0   \n",
       "3       0  ...         0         0         0         0         0         0   \n",
       "4       0  ...         0         0         0         0         0         0   \n",
       "\n",
       "   pixel780  pixel781  pixel782  pixel783  \n",
       "0         0         0         0         0  \n",
       "1         0         0         0         0  \n",
       "2         0         0         0         0  \n",
       "3         0         0         0         0  \n",
       "4         0         0         0         0  \n",
       "\n",
       "[5 rows x 785 columns]"
      ]
     },
     "execution_count": 5,
     "metadata": {},
     "output_type": "execute_result"
    }
   ],
   "source": [
    "train.head()"
   ]
  },
  {
   "cell_type": "code",
   "execution_count": 6,
   "id": "61749dc1",
   "metadata": {
    "execution": {
     "iopub.execute_input": "2022-03-30T13:23:33.528928Z",
     "iopub.status.busy": "2022-03-30T13:23:33.527868Z",
     "iopub.status.idle": "2022-03-30T13:23:33.545252Z",
     "shell.execute_reply": "2022-03-30T13:23:33.545878Z",
     "shell.execute_reply.started": "2022-03-30T12:18:20.584352Z"
    },
    "papermill": {
     "duration": 0.057595,
     "end_time": "2022-03-30T13:23:33.546082",
     "exception": false,
     "start_time": "2022-03-30T13:23:33.488487",
     "status": "completed"
    },
    "tags": []
   },
   "outputs": [
    {
     "data": {
      "text/html": [
       "<div>\n",
       "<style scoped>\n",
       "    .dataframe tbody tr th:only-of-type {\n",
       "        vertical-align: middle;\n",
       "    }\n",
       "\n",
       "    .dataframe tbody tr th {\n",
       "        vertical-align: top;\n",
       "    }\n",
       "\n",
       "    .dataframe thead th {\n",
       "        text-align: right;\n",
       "    }\n",
       "</style>\n",
       "<table border=\"1\" class=\"dataframe\">\n",
       "  <thead>\n",
       "    <tr style=\"text-align: right;\">\n",
       "      <th></th>\n",
       "      <th>pixel0</th>\n",
       "      <th>pixel1</th>\n",
       "      <th>pixel2</th>\n",
       "      <th>pixel3</th>\n",
       "      <th>pixel4</th>\n",
       "      <th>pixel5</th>\n",
       "      <th>pixel6</th>\n",
       "      <th>pixel7</th>\n",
       "      <th>pixel8</th>\n",
       "      <th>pixel9</th>\n",
       "      <th>...</th>\n",
       "      <th>pixel774</th>\n",
       "      <th>pixel775</th>\n",
       "      <th>pixel776</th>\n",
       "      <th>pixel777</th>\n",
       "      <th>pixel778</th>\n",
       "      <th>pixel779</th>\n",
       "      <th>pixel780</th>\n",
       "      <th>pixel781</th>\n",
       "      <th>pixel782</th>\n",
       "      <th>pixel783</th>\n",
       "    </tr>\n",
       "  </thead>\n",
       "  <tbody>\n",
       "    <tr>\n",
       "      <th>0</th>\n",
       "      <td>0</td>\n",
       "      <td>0</td>\n",
       "      <td>0</td>\n",
       "      <td>0</td>\n",
       "      <td>0</td>\n",
       "      <td>0</td>\n",
       "      <td>0</td>\n",
       "      <td>0</td>\n",
       "      <td>0</td>\n",
       "      <td>0</td>\n",
       "      <td>...</td>\n",
       "      <td>0</td>\n",
       "      <td>0</td>\n",
       "      <td>0</td>\n",
       "      <td>0</td>\n",
       "      <td>0</td>\n",
       "      <td>0</td>\n",
       "      <td>0</td>\n",
       "      <td>0</td>\n",
       "      <td>0</td>\n",
       "      <td>0</td>\n",
       "    </tr>\n",
       "    <tr>\n",
       "      <th>1</th>\n",
       "      <td>0</td>\n",
       "      <td>0</td>\n",
       "      <td>0</td>\n",
       "      <td>0</td>\n",
       "      <td>0</td>\n",
       "      <td>0</td>\n",
       "      <td>0</td>\n",
       "      <td>0</td>\n",
       "      <td>0</td>\n",
       "      <td>0</td>\n",
       "      <td>...</td>\n",
       "      <td>0</td>\n",
       "      <td>0</td>\n",
       "      <td>0</td>\n",
       "      <td>0</td>\n",
       "      <td>0</td>\n",
       "      <td>0</td>\n",
       "      <td>0</td>\n",
       "      <td>0</td>\n",
       "      <td>0</td>\n",
       "      <td>0</td>\n",
       "    </tr>\n",
       "    <tr>\n",
       "      <th>2</th>\n",
       "      <td>0</td>\n",
       "      <td>0</td>\n",
       "      <td>0</td>\n",
       "      <td>0</td>\n",
       "      <td>0</td>\n",
       "      <td>0</td>\n",
       "      <td>0</td>\n",
       "      <td>0</td>\n",
       "      <td>0</td>\n",
       "      <td>0</td>\n",
       "      <td>...</td>\n",
       "      <td>0</td>\n",
       "      <td>0</td>\n",
       "      <td>0</td>\n",
       "      <td>0</td>\n",
       "      <td>0</td>\n",
       "      <td>0</td>\n",
       "      <td>0</td>\n",
       "      <td>0</td>\n",
       "      <td>0</td>\n",
       "      <td>0</td>\n",
       "    </tr>\n",
       "    <tr>\n",
       "      <th>3</th>\n",
       "      <td>0</td>\n",
       "      <td>0</td>\n",
       "      <td>0</td>\n",
       "      <td>0</td>\n",
       "      <td>0</td>\n",
       "      <td>0</td>\n",
       "      <td>0</td>\n",
       "      <td>0</td>\n",
       "      <td>0</td>\n",
       "      <td>0</td>\n",
       "      <td>...</td>\n",
       "      <td>0</td>\n",
       "      <td>0</td>\n",
       "      <td>0</td>\n",
       "      <td>0</td>\n",
       "      <td>0</td>\n",
       "      <td>0</td>\n",
       "      <td>0</td>\n",
       "      <td>0</td>\n",
       "      <td>0</td>\n",
       "      <td>0</td>\n",
       "    </tr>\n",
       "    <tr>\n",
       "      <th>4</th>\n",
       "      <td>0</td>\n",
       "      <td>0</td>\n",
       "      <td>0</td>\n",
       "      <td>0</td>\n",
       "      <td>0</td>\n",
       "      <td>0</td>\n",
       "      <td>0</td>\n",
       "      <td>0</td>\n",
       "      <td>0</td>\n",
       "      <td>0</td>\n",
       "      <td>...</td>\n",
       "      <td>0</td>\n",
       "      <td>0</td>\n",
       "      <td>0</td>\n",
       "      <td>0</td>\n",
       "      <td>0</td>\n",
       "      <td>0</td>\n",
       "      <td>0</td>\n",
       "      <td>0</td>\n",
       "      <td>0</td>\n",
       "      <td>0</td>\n",
       "    </tr>\n",
       "  </tbody>\n",
       "</table>\n",
       "<p>5 rows × 784 columns</p>\n",
       "</div>"
      ],
      "text/plain": [
       "   pixel0  pixel1  pixel2  pixel3  pixel4  pixel5  pixel6  pixel7  pixel8  \\\n",
       "0       0       0       0       0       0       0       0       0       0   \n",
       "1       0       0       0       0       0       0       0       0       0   \n",
       "2       0       0       0       0       0       0       0       0       0   \n",
       "3       0       0       0       0       0       0       0       0       0   \n",
       "4       0       0       0       0       0       0       0       0       0   \n",
       "\n",
       "   pixel9  ...  pixel774  pixel775  pixel776  pixel777  pixel778  pixel779  \\\n",
       "0       0  ...         0         0         0         0         0         0   \n",
       "1       0  ...         0         0         0         0         0         0   \n",
       "2       0  ...         0         0         0         0         0         0   \n",
       "3       0  ...         0         0         0         0         0         0   \n",
       "4       0  ...         0         0         0         0         0         0   \n",
       "\n",
       "   pixel780  pixel781  pixel782  pixel783  \n",
       "0         0         0         0         0  \n",
       "1         0         0         0         0  \n",
       "2         0         0         0         0  \n",
       "3         0         0         0         0  \n",
       "4         0         0         0         0  \n",
       "\n",
       "[5 rows x 784 columns]"
      ]
     },
     "execution_count": 6,
     "metadata": {},
     "output_type": "execute_result"
    }
   ],
   "source": [
    "test.head()"
   ]
  },
  {
   "cell_type": "markdown",
   "id": "87da5034",
   "metadata": {
    "papermill": {
     "duration": 0.035928,
     "end_time": "2022-03-30T13:23:33.618051",
     "exception": false,
     "start_time": "2022-03-30T13:23:33.582123",
     "status": "completed"
    },
    "tags": []
   },
   "source": [
    "##### There are no missing values in both train dataset and test dataset."
   ]
  },
  {
   "cell_type": "code",
   "execution_count": 7,
   "id": "19b4bf9a",
   "metadata": {
    "execution": {
     "iopub.execute_input": "2022-03-30T13:23:33.694168Z",
     "iopub.status.busy": "2022-03-30T13:23:33.693070Z",
     "iopub.status.idle": "2022-03-30T13:23:33.716724Z",
     "shell.execute_reply": "2022-03-30T13:23:33.717179Z",
     "shell.execute_reply.started": "2022-03-30T12:18:20.602617Z"
    },
    "papermill": {
     "duration": 0.063618,
     "end_time": "2022-03-30T13:23:33.717390",
     "exception": false,
     "start_time": "2022-03-30T13:23:33.653772",
     "status": "completed"
    },
    "tags": []
   },
   "outputs": [
    {
     "data": {
      "text/plain": [
       "count       785\n",
       "unique        1\n",
       "top       False\n",
       "freq        785\n",
       "dtype: object"
      ]
     },
     "execution_count": 7,
     "metadata": {},
     "output_type": "execute_result"
    }
   ],
   "source": [
    "train.isnull().any().describe()"
   ]
  },
  {
   "cell_type": "code",
   "execution_count": 8,
   "id": "cdb984fd",
   "metadata": {
    "execution": {
     "iopub.execute_input": "2022-03-30T13:23:33.796958Z",
     "iopub.status.busy": "2022-03-30T13:23:33.795635Z",
     "iopub.status.idle": "2022-03-30T13:23:33.811777Z",
     "shell.execute_reply": "2022-03-30T13:23:33.811116Z",
     "shell.execute_reply.started": "2022-03-30T12:18:20.635273Z"
    },
    "papermill": {
     "duration": 0.058555,
     "end_time": "2022-03-30T13:23:33.811932",
     "exception": false,
     "start_time": "2022-03-30T13:23:33.753377",
     "status": "completed"
    },
    "tags": []
   },
   "outputs": [
    {
     "data": {
      "text/plain": [
       "count       784\n",
       "unique        1\n",
       "top       False\n",
       "freq        784\n",
       "dtype: object"
      ]
     },
     "execution_count": 8,
     "metadata": {},
     "output_type": "execute_result"
    }
   ],
   "source": [
    "test.isnull().any().describe()"
   ]
  },
  {
   "cell_type": "code",
   "execution_count": 9,
   "id": "95f92319",
   "metadata": {
    "execution": {
     "iopub.execute_input": "2022-03-30T13:23:33.893344Z",
     "iopub.status.busy": "2022-03-30T13:23:33.892701Z",
     "iopub.status.idle": "2022-03-30T13:23:33.897206Z",
     "shell.execute_reply": "2022-03-30T13:23:33.896520Z",
     "shell.execute_reply.started": "2022-03-30T12:18:20.654974Z"
    },
    "papermill": {
     "duration": 0.048966,
     "end_time": "2022-03-30T13:23:33.897417",
     "exception": false,
     "start_time": "2022-03-30T13:23:33.848451",
     "status": "completed"
    },
    "tags": []
   },
   "outputs": [
    {
     "data": {
      "text/plain": [
       "0    1\n",
       "1    0\n",
       "2    1\n",
       "3    4\n",
       "4    0\n",
       "Name: label, dtype: int64"
      ]
     },
     "execution_count": 9,
     "metadata": {},
     "output_type": "execute_result"
    }
   ],
   "source": [
    "train[\"label\"].head()"
   ]
  },
  {
   "cell_type": "code",
   "execution_count": 10,
   "id": "3999aa1f",
   "metadata": {
    "execution": {
     "iopub.execute_input": "2022-03-30T13:23:33.981231Z",
     "iopub.status.busy": "2022-03-30T13:23:33.974403Z",
     "iopub.status.idle": "2022-03-30T13:23:33.984194Z",
     "shell.execute_reply": "2022-03-30T13:23:33.984777Z",
     "shell.execute_reply.started": "2022-03-30T12:18:20.667962Z"
    },
    "papermill": {
     "duration": 0.050674,
     "end_time": "2022-03-30T13:23:33.984950",
     "exception": false,
     "start_time": "2022-03-30T13:23:33.934276",
     "status": "completed"
    },
    "tags": []
   },
   "outputs": [
    {
     "data": {
      "text/plain": [
       "1    4684\n",
       "7    4401\n",
       "3    4351\n",
       "9    4188\n",
       "2    4177\n",
       "6    4137\n",
       "0    4132\n",
       "4    4072\n",
       "8    4063\n",
       "5    3795\n",
       "Name: label, dtype: int64"
      ]
     },
     "execution_count": 10,
     "metadata": {},
     "output_type": "execute_result"
    }
   ],
   "source": [
    "train[\"label\"].value_counts()"
   ]
  },
  {
   "cell_type": "code",
   "execution_count": 11,
   "id": "4595a94a",
   "metadata": {
    "execution": {
     "iopub.execute_input": "2022-03-30T13:23:34.066638Z",
     "iopub.status.busy": "2022-03-30T13:23:34.063035Z",
     "iopub.status.idle": "2022-03-30T13:23:34.340176Z",
     "shell.execute_reply": "2022-03-30T13:23:34.340639Z",
     "shell.execute_reply.started": "2022-03-30T12:18:20.681203Z"
    },
    "papermill": {
     "duration": 0.318664,
     "end_time": "2022-03-30T13:23:34.340811",
     "exception": false,
     "start_time": "2022-03-30T13:23:34.022147",
     "status": "completed"
    },
    "tags": []
   },
   "outputs": [
    {
     "name": "stderr",
     "output_type": "stream",
     "text": [
      "/opt/conda/lib/python3.7/site-packages/seaborn/_decorators.py:43: FutureWarning: Pass the following variable as a keyword arg: x. From version 0.12, the only valid positional argument will be `data`, and passing other arguments without an explicit keyword will result in an error or misinterpretation.\n",
      "  FutureWarning\n"
     ]
    },
    {
     "data": {
      "text/plain": [
       "<AxesSubplot:xlabel='label', ylabel='count'>"
      ]
     },
     "execution_count": 11,
     "metadata": {},
     "output_type": "execute_result"
    },
    {
     "data": {
      "image/png": "[encoded data removed]",
      "text/plain": [
       "<Figure size 864x432 with 1 Axes>"
      ]
     },
     "metadata": {
      "needs_background": "light"
     },
     "output_type": "display_data"
    }
   ],
   "source": [
    "plt.figure(figsize=(12, 6))\n",
    "sns.countplot(train[\"label\"])"
   ]
  },
  {
   "cell_type": "markdown",
   "id": "4af526e6",
   "metadata": {
    "papermill": {
     "duration": 0.038406,
     "end_time": "2022-03-30T13:23:34.418150",
     "exception": false,
     "start_time": "2022-03-30T13:23:34.379744",
     "status": "completed"
    },
    "tags": []
   },
   "source": [
    "##### Now we need to split the train dataset into train and validation set"
   ]
  },
  {
   "cell_type": "code",
   "execution_count": 12,
   "id": "8dbc2141",
   "metadata": {
    "execution": {
     "iopub.execute_input": "2022-03-30T13:23:34.499578Z",
     "iopub.status.busy": "2022-03-30T13:23:34.498631Z",
     "iopub.status.idle": "2022-03-30T13:23:34.611122Z",
     "shell.execute_reply": "2022-03-30T13:23:34.610504Z",
     "shell.execute_reply.started": "2022-03-30T12:18:20.889381Z"
    },
    "papermill": {
     "duration": 0.154153,
     "end_time": "2022-03-30T13:23:34.611268",
     "exception": false,
     "start_time": "2022-03-30T13:23:34.457115",
     "status": "completed"
    },
    "tags": []
   },
   "outputs": [],
   "source": [
    "y_train = train[\"label\"]\n",
    "x_train = train.drop(labels=[\"label\"], axis=1)"
   ]
  },
  {
   "cell_type": "markdown",
   "id": "e3719e48",
   "metadata": {
    "papermill": {
     "duration": 0.039337,
     "end_time": "2022-03-30T13:23:34.689354",
     "exception": false,
     "start_time": "2022-03-30T13:23:34.650017",
     "status": "completed"
    },
    "tags": []
   },
   "source": [
    "#### We need to normalize the data. As neural nets work better on values between (0 and 1) than values between (0 and 255)."
   ]
  },
  {
   "cell_type": "code",
   "execution_count": 13,
   "id": "b08018bc",
   "metadata": {
    "execution": {
     "iopub.execute_input": "2022-03-30T13:23:34.771693Z",
     "iopub.status.busy": "2022-03-30T13:23:34.770735Z",
     "iopub.status.idle": "2022-03-30T13:23:34.894371Z",
     "shell.execute_reply": "2022-03-30T13:23:34.893751Z",
     "shell.execute_reply.started": "2022-03-30T12:18:21.013576Z"
    },
    "papermill": {
     "duration": 0.166318,
     "end_time": "2022-03-30T13:23:34.894535",
     "exception": false,
     "start_time": "2022-03-30T13:23:34.728217",
     "status": "completed"
    },
    "tags": []
   },
   "outputs": [],
   "source": [
    "# Normalize the data\n",
    "\n",
    "x_train = x_train / 255.0\n",
    "test = test / 255.0"
   ]
  },
  {
   "cell_type": "markdown",
   "id": "626b6fba",
   "metadata": {
    "papermill": {
     "duration": 0.039983,
     "end_time": "2022-03-30T13:23:34.975867",
     "exception": false,
     "start_time": "2022-03-30T13:23:34.935884",
     "status": "completed"
    },
    "tags": []
   },
   "source": [
    "Since the train and test images are in 28 * 28 format and the images are in grayscale format so 1 channel is used, so 28 * 28 * 1 matrix. If the images would have been in RGB then channels are 3 ie 28 * 28 * 3 matrix."
   ]
  },
  {
   "cell_type": "code",
   "execution_count": 14,
   "id": "9fe107d7",
   "metadata": {
    "execution": {
     "iopub.execute_input": "2022-03-30T13:23:35.065490Z",
     "iopub.status.busy": "2022-03-30T13:23:35.064398Z",
     "iopub.status.idle": "2022-03-30T13:23:35.066242Z",
     "shell.execute_reply": "2022-03-30T13:23:35.066749Z",
     "shell.execute_reply.started": "2022-03-30T12:18:21.136698Z"
    },
    "papermill": {
     "duration": 0.050713,
     "end_time": "2022-03-30T13:23:35.066950",
     "exception": false,
     "start_time": "2022-03-30T13:23:35.016237",
     "status": "completed"
    },
    "tags": []
   },
   "outputs": [],
   "source": [
    "# Reshaping the data input (height = 28px, width = 28px , channel = 1)\n",
    "\n",
    "x_train = x_train.values.reshape(-1,28,28,1)\n",
    "test = test.values.reshape(-1,28,28,1)"
   ]
  },
  {
   "cell_type": "code",
   "execution_count": 15,
   "id": "16217044",
   "metadata": {
    "execution": {
     "iopub.execute_input": "2022-03-30T13:23:35.151261Z",
     "iopub.status.busy": "2022-03-30T13:23:35.148807Z",
     "iopub.status.idle": "2022-03-30T13:23:35.154246Z",
     "shell.execute_reply": "2022-03-30T13:23:35.154876Z",
     "shell.execute_reply.started": "2022-03-30T12:18:21.143321Z"
    },
    "papermill": {
     "duration": 0.048231,
     "end_time": "2022-03-30T13:23:35.155056",
     "exception": false,
     "start_time": "2022-03-30T13:23:35.106825",
     "status": "completed"
    },
    "tags": []
   },
   "outputs": [],
   "source": [
    "# Encode labels to one hot vectors (ex : 2 -> [0,0,1,0,0,0,0,0,0,0])\n",
    "\n",
    "y_train = to_categorical(y_train, num_classes = 10)"
   ]
  },
  {
   "cell_type": "markdown",
   "id": "d48487a5",
   "metadata": {
    "papermill": {
     "duration": 0.038623,
     "end_time": "2022-03-30T13:23:35.232582",
     "exception": false,
     "start_time": "2022-03-30T13:23:35.193959",
     "status": "completed"
    },
    "tags": []
   },
   "source": [
    "Splitting the data into training and validation data. Here I have taken 10% for validation and remaining for training."
   ]
  },
  {
   "cell_type": "code",
   "execution_count": 16,
   "id": "7666ed93",
   "metadata": {
    "execution": {
     "iopub.execute_input": "2022-03-30T13:23:35.313859Z",
     "iopub.status.busy": "2022-03-30T13:23:35.313139Z",
     "iopub.status.idle": "2022-03-30T13:23:35.867315Z",
     "shell.execute_reply": "2022-03-30T13:23:35.867853Z",
     "shell.execute_reply.started": "2022-03-30T12:18:21.162968Z"
    },
    "papermill": {
     "duration": 0.596616,
     "end_time": "2022-03-30T13:23:35.868074",
     "exception": false,
     "start_time": "2022-03-30T13:23:35.271458",
     "status": "completed"
    },
    "tags": []
   },
   "outputs": [],
   "source": [
    "x_train, x_val, y_train, y_val = train_test_split(x_train, y_train, test_size = 0.1, random_state=37)"
   ]
  },
  {
   "cell_type": "code",
   "execution_count": 17,
   "id": "eec30288",
   "metadata": {
    "execution": {
     "iopub.execute_input": "2022-03-30T13:23:35.953328Z",
     "iopub.status.busy": "2022-03-30T13:23:35.952654Z",
     "iopub.status.idle": "2022-03-30T13:23:35.957384Z",
     "shell.execute_reply": "2022-03-30T13:23:35.958061Z",
     "shell.execute_reply.started": "2022-03-30T12:18:21.653200Z"
    },
    "papermill": {
     "duration": 0.049143,
     "end_time": "2022-03-30T13:23:35.958260",
     "exception": false,
     "start_time": "2022-03-30T13:23:35.909117",
     "status": "completed"
    },
    "tags": []
   },
   "outputs": [
    {
     "name": "stdout",
     "output_type": "stream",
     "text": [
      "x train shape: (37800, 28, 28, 1)\n",
      "y train shape: (37800, 10)\n",
      "x val shape: (4200, 28, 28, 1)\n",
      "y val shape: (4200, 10)\n"
     ]
    }
   ],
   "source": [
    "print(f\"x train shape: {x_train.shape}\")\n",
    "print(f\"y train shape: {y_train.shape}\")\n",
    "print(f\"x val shape: {x_val.shape}\")\n",
    "print(f\"y val shape: {y_val.shape}\")"
   ]
  },
  {
   "cell_type": "code",
   "execution_count": 18,
   "id": "462a85eb",
   "metadata": {
    "execution": {
     "iopub.execute_input": "2022-03-30T13:23:36.059832Z",
     "iopub.status.busy": "2022-03-30T13:23:36.058419Z",
     "iopub.status.idle": "2022-03-30T13:23:36.240649Z",
     "shell.execute_reply": "2022-03-30T13:23:36.241148Z",
     "shell.execute_reply.started": "2022-03-30T12:18:21.663895Z"
    },
    "papermill": {
     "duration": 0.243059,
     "end_time": "2022-03-30T13:23:36.241360",
     "exception": false,
     "start_time": "2022-03-30T13:23:35.998301",
     "status": "completed"
    },
    "tags": []
   },
   "outputs": [
    {
     "data": {
      "text/plain": [
       "<matplotlib.image.AxesImage at 0x7fdbfd201dd0>"
      ]
     },
     "execution_count": 18,
     "metadata": {},
     "output_type": "execute_result"
    },
    {
     "data": {
      "image/png": "[encoded data removed]",
      "text/plain": [
       "<Figure size 432x288 with 1 Axes>"
      ]
     },
     "metadata": {
      "needs_background": "light"
     },
     "output_type": "display_data"
    }
   ],
   "source": [
    "plt.imshow(x_train[7][:,:,0])"
   ]
  },
  {
   "cell_type": "code",
   "execution_count": 19,
   "id": "29b5b79e",
   "metadata": {
    "execution": {
     "iopub.execute_input": "2022-03-30T13:23:36.326739Z",
     "iopub.status.busy": "2022-03-30T13:23:36.326047Z",
     "iopub.status.idle": "2022-03-30T13:23:36.330641Z",
     "shell.execute_reply": "2022-03-30T13:23:36.331126Z",
     "shell.execute_reply.started": "2022-03-30T12:18:21.838215Z"
    },
    "papermill": {
     "duration": 0.049122,
     "end_time": "2022-03-30T13:23:36.331325",
     "exception": false,
     "start_time": "2022-03-30T13:23:36.282203",
     "status": "completed"
    },
    "tags": []
   },
   "outputs": [
    {
     "data": {
      "text/plain": [
       "array([0., 0., 1., 0., 0., 0., 0., 0., 0., 0.], dtype=float32)"
      ]
     },
     "execution_count": 19,
     "metadata": {},
     "output_type": "execute_result"
    }
   ],
   "source": [
    "y_train[2]"
   ]
  },
  {
   "cell_type": "markdown",
   "id": "25ae3514",
   "metadata": {
    "papermill": {
     "duration": 0.041104,
     "end_time": "2022-03-30T13:23:36.413501",
     "exception": false,
     "start_time": "2022-03-30T13:23:36.372397",
     "status": "completed"
    },
    "tags": []
   },
   "source": [
    "## Building the convolution neural network.\n",
    "\n",
    "The first is the convolutional (Conv2D) layer. It is like a set of learnable filters. I choosed to set 32 filters for the two firsts conv2D layers and 64 filters for the last one. Each filter transforms a part of the image (defined by the kernel size) using the kernel filter. The kernel filter matrix is applied on the whole image. Filters can be seen as a transformation of the image.\n",
    "\n",
    "The CNN can isolate features that are useful everywhere from these transformed images (feature maps).\n",
    "\n",
    "The second important layer in CNN is the pooling (MaxPool2D) layer. This layer simply acts as a downsampling filter. It looks at the 2 neighboring pixels and picks the maximal value. These are used to reduce computational cost, and to some extent also reduce overfitting. We have to choose the pooling size (i.e the area size pooled each time) more the pooling dimension is high, more the downsampling is important."
   ]
  },
  {
   "cell_type": "code",
   "execution_count": 20,
   "id": "fb1e84d5",
   "metadata": {
    "execution": {
     "iopub.execute_input": "2022-03-30T13:23:36.499112Z",
     "iopub.status.busy": "2022-03-30T13:23:36.498388Z",
     "iopub.status.idle": "2022-03-30T13:23:36.679685Z",
     "shell.execute_reply": "2022-03-30T13:23:36.680185Z",
     "shell.execute_reply.started": "2022-03-30T12:18:21.849398Z"
    },
    "papermill": {
     "duration": 0.22594,
     "end_time": "2022-03-30T13:23:36.680400",
     "exception": false,
     "start_time": "2022-03-30T13:23:36.454460",
     "status": "completed"
    },
    "tags": []
   },
   "outputs": [
    {
     "name": "stderr",
     "output_type": "stream",
     "text": [
      "2022-03-30 13:23:36.542497: I tensorflow/core/common_runtime/process_util.cc:146] Creating new thread pool with default inter op setting: 2. Tune using inter_op_parallelism_threads for best performance.\n"
     ]
    }
   ],
   "source": [
    "model = Sequential()\n",
    "\n",
    "model.add(Conv2D(filters = 32, kernel_size = (3,3), padding = 'Same', \n",
    "                        activation ='relu', input_shape = (28,28,1)))\n",
    "model.add(MaxPool2D(pool_size=(2,2)))\n",
    "model.add(Dropout(0.25))\n",
    "\n",
    "\n",
    "model.add(Conv2D(filters = 64, kernel_size = (3,3), padding = 'Same', \n",
    "                        activation ='relu'))\n",
    "model.add(MaxPool2D(pool_size=(2,2)))\n",
    "model.add(Dropout(0.25))\n",
    "\n",
    "model.add(Conv2D(filters = 64, kernel_size = (3,3), padding = 'Same', \n",
    "                        activation ='relu'))\n",
    "\n",
    "\n",
    "model.add(Flatten())\n",
    "model.add(Dense(64, activation = \"relu\"))\n",
    "model.add(Dropout(0.5))\n",
    "model.add(Dense(10, activation = \"softmax\"))"
   ]
  },
  {
   "cell_type": "code",
   "execution_count": 21,
   "id": "9184a3eb",
   "metadata": {
    "execution": {
     "iopub.execute_input": "2022-03-30T13:23:36.769591Z",
     "iopub.status.busy": "2022-03-30T13:23:36.768029Z",
     "iopub.status.idle": "2022-03-30T13:23:36.779241Z",
     "shell.execute_reply": "2022-03-30T13:23:36.779817Z",
     "shell.execute_reply.started": "2022-03-30T12:18:30.611973Z"
    },
    "papermill": {
     "duration": 0.058487,
     "end_time": "2022-03-30T13:23:36.780026",
     "exception": false,
     "start_time": "2022-03-30T13:23:36.721539",
     "status": "completed"
    },
    "tags": []
   },
   "outputs": [
    {
     "name": "stdout",
     "output_type": "stream",
     "text": [
      "Model: \"sequential\"\n",
      "_________________________________________________________________\n",
      "Layer (type)                 Output Shape              Param #   \n",
      "=================================================================\n",
      "conv2d (Conv2D)              (None, 28, 28, 32)        320       \n",
      "_________________________________________________________________\n",
      "max_pooling2d (MaxPooling2D) (None, 14, 14, 32)        0         \n",
      "_________________________________________________________________\n",
      "dropout (Dropout)            (None, 14, 14, 32)        0         \n",
      "_________________________________________________________________\n",
      "conv2d_1 (Conv2D)            (None, 14, 14, 64)        18496     \n",
      "_________________________________________________________________\n",
      "max_pooling2d_1 (MaxPooling2 (None, 7, 7, 64)          0         \n",
      "_________________________________________________________________\n",
      "dropout_1 (Dropout)          (None, 7, 7, 64)          0         \n",
      "_________________________________________________________________\n",
      "conv2d_2 (Conv2D)            (None, 7, 7, 64)          36928     \n",
      "_________________________________________________________________\n",
      "flatten (Flatten)            (None, 3136)              0         \n",
      "_________________________________________________________________\n",
      "dense (Dense)                (None, 64)                200768    \n",
      "_________________________________________________________________\n",
      "dropout_2 (Dropout)          (None, 64)                0         \n",
      "_________________________________________________________________\n",
      "dense_1 (Dense)              (None, 10)                650       \n",
      "=================================================================\n",
      "Total params: 257,162\n",
      "Trainable params: 257,162\n",
      "Non-trainable params: 0\n",
      "_________________________________________________________________\n"
     ]
    }
   ],
   "source": [
    "model.summary()"
   ]
  },
  {
   "cell_type": "code",
   "execution_count": 22,
   "id": "23331690",
   "metadata": {
    "execution": {
     "iopub.execute_input": "2022-03-30T13:23:36.874151Z",
     "iopub.status.busy": "2022-03-30T13:23:36.873402Z",
     "iopub.status.idle": "2022-03-30T13:23:36.884549Z",
     "shell.execute_reply": "2022-03-30T13:23:36.883936Z",
     "shell.execute_reply.started": "2022-03-30T12:18:37.683391Z"
    },
    "papermill": {
     "duration": 0.062521,
     "end_time": "2022-03-30T13:23:36.884761",
     "exception": false,
     "start_time": "2022-03-30T13:23:36.822240",
     "status": "completed"
    },
    "tags": []
   },
   "outputs": [],
   "source": [
    "model.compile(optimizer='rmsprop', \n",
    "              loss='categorical_crossentropy', \n",
    "              metrics=['accuracy'])"
   ]
  },
  {
   "cell_type": "code",
   "execution_count": 23,
   "id": "1aaee893",
   "metadata": {
    "execution": {
     "iopub.execute_input": "2022-03-30T13:23:36.973348Z",
     "iopub.status.busy": "2022-03-30T13:23:36.972698Z",
     "iopub.status.idle": "2022-03-30T13:25:48.093408Z",
     "shell.execute_reply": "2022-03-30T13:25:48.093984Z",
     "shell.execute_reply.started": "2022-03-30T12:18:43.678396Z"
    },
    "papermill": {
     "duration": 131.167006,
     "end_time": "2022-03-30T13:25:48.094203",
     "exception": false,
     "start_time": "2022-03-30T13:23:36.927197",
     "status": "completed"
    },
    "tags": []
   },
   "outputs": [
    {
     "name": "stderr",
     "output_type": "stream",
     "text": [
      "2022-03-30 13:23:37.199568: I tensorflow/compiler/mlir/mlir_graph_optimization_pass.cc:185] None of the MLIR Optimization Passes are enabled (registered 2)\n"
     ]
    },
    {
     "name": "stdout",
     "output_type": "stream",
     "text": [
      "Epoch 1/5\n",
      "591/591 [==============================] - 28s 45ms/step - loss: 0.3961 - accuracy: 0.8758 - val_loss: 0.0795 - val_accuracy: 0.9733\n",
      "Epoch 2/5\n",
      "591/591 [==============================] - 26s 44ms/step - loss: 0.1249 - accuracy: 0.9655 - val_loss: 0.0541 - val_accuracy: 0.9843\n",
      "Epoch 3/5\n",
      "591/591 [==============================] - 26s 44ms/step - loss: 0.0918 - accuracy: 0.9747 - val_loss: 0.0443 - val_accuracy: 0.9852\n",
      "Epoch 4/5\n",
      "591/591 [==============================] - 26s 44ms/step - loss: 0.0758 - accuracy: 0.9795 - val_loss: 0.0425 - val_accuracy: 0.9862\n",
      "Epoch 5/5\n",
      "591/591 [==============================] - 25s 43ms/step - loss: 0.0676 - accuracy: 0.9819 - val_loss: 0.0419 - val_accuracy: 0.9867\n"
     ]
    }
   ],
   "source": [
    "history = model.fit(x_train, y_train, epochs=5, batch_size=64, validation_data=(x_val, y_val))"
   ]
  },
  {
   "cell_type": "code",
   "execution_count": 24,
   "id": "5fbed4bb",
   "metadata": {
    "execution": {
     "iopub.execute_input": "2022-03-30T13:25:49.309012Z",
     "iopub.status.busy": "2022-03-30T13:25:49.308376Z",
     "iopub.status.idle": "2022-03-30T13:25:49.313718Z",
     "shell.execute_reply": "2022-03-30T13:25:49.314215Z",
     "shell.execute_reply.started": "2022-03-30T12:22:14.634120Z"
    },
    "papermill": {
     "duration": 0.620416,
     "end_time": "2022-03-30T13:25:49.314403",
     "exception": false,
     "start_time": "2022-03-30T13:25:48.693987",
     "status": "completed"
    },
    "tags": []
   },
   "outputs": [
    {
     "data": {
      "text/plain": [
       "{'loss': [0.39609575271606445,\n",
       "  0.12490373849868774,\n",
       "  0.09177955240011215,\n",
       "  0.07577577233314514,\n",
       "  0.06757046282291412],\n",
       " 'accuracy': [0.8757936358451843,\n",
       "  0.9654762148857117,\n",
       "  0.9747089743614197,\n",
       "  0.9794709086418152,\n",
       "  0.9818518757820129],\n",
       " 'val_loss': [0.07946828007698059,\n",
       "  0.05412037670612335,\n",
       "  0.044288571923971176,\n",
       "  0.042542796581983566,\n",
       "  0.04185498133301735],\n",
       " 'val_accuracy': [0.9733333587646484,\n",
       "  0.9842857122421265,\n",
       "  0.9852380752563477,\n",
       "  0.9861904978752136,\n",
       "  0.9866666793823242]}"
      ]
     },
     "execution_count": 24,
     "metadata": {},
     "output_type": "execute_result"
    }
   ],
   "source": [
    "history.history"
   ]
  },
  {
   "cell_type": "code",
   "execution_count": 25,
   "id": "049faa6c",
   "metadata": {
    "execution": {
     "iopub.execute_input": "2022-03-30T13:25:50.520790Z",
     "iopub.status.busy": "2022-03-30T13:25:50.520126Z",
     "iopub.status.idle": "2022-03-30T13:25:50.763049Z",
     "shell.execute_reply": "2022-03-30T13:25:50.763884Z",
     "shell.execute_reply.started": "2022-03-30T12:22:58.152527Z"
    },
    "papermill": {
     "duration": 0.85043,
     "end_time": "2022-03-30T13:25:50.764116",
     "exception": false,
     "start_time": "2022-03-30T13:25:49.913686",
     "status": "completed"
    },
    "tags": []
   },
   "outputs": [
    {
     "data": {
      "image/png": "[encoded data removed]",
      "text/plain": [
       "<Figure size 432x288 with 1 Axes>"
      ]
     },
     "metadata": {
      "needs_background": "light"
     },
     "output_type": "display_data"
    }
   ],
   "source": [
    "# Plot the loss and accuracy curves for training and validation\n",
    "\n",
    "loss = history.history['loss']\n",
    "val_loss = history.history['val_loss']\n",
    "epochs = range(1, len(loss) + 1)\n",
    "plt.plot(epochs, loss, 'bo', label='Training loss')\n",
    "plt.plot(epochs, val_loss, 'b', label='Validation loss')\n",
    "plt.title('Training and validation loss')\n",
    "plt.xlabel('Epochs')\n",
    "plt.ylabel('Loss')\n",
    "plt.legend()\n",
    "plt.show()\n",
    "\n",
    "\n",
    "# fig, ax = plt.subplots(2,1)\n",
    "# ax[0].plot(history.history['loss'], color='b', label=\"Training loss\")\n",
    "# ax[0].plot(history.history['val_loss'], color='r', label=\"validation loss\",axes =ax[0])\n",
    "# legend = ax[0].legend(loc='best', shadow=True)\n",
    "\n",
    "# ax[1].plot(history.history['acc'], color='b', label=\"Training accuracy\")\n",
    "# ax[1].plot(history.history['val_acc'], color='r',label=\"Validation accuracy\")\n",
    "# legend = ax[1].legend(loc='best', shadow=True)"
   ]
  },
  {
   "cell_type": "code",
   "execution_count": 26,
   "id": "a88805e8",
   "metadata": {
    "execution": {
     "iopub.execute_input": "2022-03-30T13:25:52.025595Z",
     "iopub.status.busy": "2022-03-30T13:25:52.024577Z",
     "iopub.status.idle": "2022-03-30T13:25:52.241210Z",
     "shell.execute_reply": "2022-03-30T13:25:52.241663Z",
     "shell.execute_reply.started": "2022-03-30T12:24:47.095537Z"
    },
    "papermill": {
     "duration": 0.833264,
     "end_time": "2022-03-30T13:25:52.241851",
     "exception": false,
     "start_time": "2022-03-30T13:25:51.408587",
     "status": "completed"
    },
    "tags": []
   },
   "outputs": [
    {
     "data": {
      "image/png": "[encoded data removed]",
      "text/plain": [
       "<Figure size 432x288 with 1 Axes>"
      ]
     },
     "metadata": {
      "needs_background": "light"
     },
     "output_type": "display_data"
    }
   ],
   "source": [
    "#plt.clf() # clear figure\n",
    "acc = history.history['accuracy']\n",
    "val_acc = history.history['val_accuracy']\n",
    "plt.plot(epochs, acc, 'bo', label='Training acc')\n",
    "plt.plot(epochs, val_acc, 'b', label='Validation acc')\n",
    "plt.title('Training and validation accuracy')\n",
    "plt.xlabel('Epochs')\n",
    "plt.ylabel('Loss')\n",
    "plt.legend()\n",
    "plt.show()"
   ]
  },
  {
   "cell_type": "markdown",
   "id": "fdd580fa",
   "metadata": {
    "papermill": {
     "duration": 0.600562,
     "end_time": "2022-03-30T13:25:53.478717",
     "exception": false,
     "start_time": "2022-03-30T13:25:52.878155",
     "status": "completed"
    },
    "tags": []
   },
   "source": [
    "Validation Accuracy and training accuracy seems to be right hence we can say that the model does not overfit."
   ]
  },
  {
   "cell_type": "code",
   "execution_count": 27,
   "id": "237a1bd4",
   "metadata": {
    "execution": {
     "iopub.execute_input": "2022-03-30T13:25:54.683531Z",
     "iopub.status.busy": "2022-03-30T13:25:54.682473Z",
     "iopub.status.idle": "2022-03-30T13:26:00.521941Z",
     "shell.execute_reply": "2022-03-30T13:26:00.522773Z",
     "shell.execute_reply.started": "2022-03-30T12:42:40.219324Z"
    },
    "papermill": {
     "duration": 6.446278,
     "end_time": "2022-03-30T13:26:00.522975",
     "exception": false,
     "start_time": "2022-03-30T13:25:54.076697",
     "status": "completed"
    },
    "tags": []
   },
   "outputs": [],
   "source": [
    "y_pred = model.predict(test)\n",
    "y_pred = np.argmax(y_pred, axis=1)"
   ]
  },
  {
   "cell_type": "code",
   "execution_count": 28,
   "id": "d20d6060",
   "metadata": {
    "execution": {
     "iopub.execute_input": "2022-03-30T13:26:01.728909Z",
     "iopub.status.busy": "2022-03-30T13:26:01.727902Z",
     "iopub.status.idle": "2022-03-30T13:26:01.780217Z",
     "shell.execute_reply": "2022-03-30T13:26:01.779456Z",
     "shell.execute_reply.started": "2022-03-30T12:43:10.401347Z"
    },
    "papermill": {
     "duration": 0.655432,
     "end_time": "2022-03-30T13:26:01.780363",
     "exception": false,
     "start_time": "2022-03-30T13:26:01.124931",
     "status": "completed"
    },
    "tags": []
   },
   "outputs": [],
   "source": [
    "y_pred = pd.Series(y_pred, name='Label')\n",
    "sub = pd.concat([pd.Series(range(1, 28001), name=\"ImageId\"), y_pred], axis=1)\n",
    "sub.to_csv('mnist_submission.csv', index=False)"
   ]
  }
 ],
 "metadata": {
  "kernelspec": {
   "display_name": "Python 3",
   "language": "python",
   "name": "python3"
  },
  "language_info": {
   "codemirror_mode": {
    "name": "ipython",
    "version": 3
   },
   "file_extension": ".py",
   "mimetype": "text/x-python",
   "name": "python",
   "nbconvert_exporter": "python",
   "pygments_lexer": "ipython3",
   "version": "3.7.12"
  },
  "papermill": {
   "default_parameters": {},
   "duration": 175.882059,
   "end_time": "2022-03-30T13:26:05.341491",
   "environment_variables": {},
   "exception": null,
   "input_path": "__notebook__.ipynb",
   "output_path": "__notebook__.ipynb",
   "parameters": {},
   "start_time": "2022-03-30T13:23:09.459432",
   "version": "2.3.3"
  }
 },
 "nbformat": 4,
 "nbformat_minor": 5
}
